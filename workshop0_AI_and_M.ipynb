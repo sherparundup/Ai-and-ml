{
  "nbformat": 4,
  "nbformat_minor": 0,
  "metadata": {
    "colab": {
      "provenance": []
    },
    "kernelspec": {
      "name": "python3",
      "display_name": "Python 3"
    },
    "language_info": {
      "name": "python"
    }
  },
  "cells": [
    {
      "cell_type": "code",
      "execution_count": null,
      "metadata": {
        "id": "uvD5XZ6Yt0WK",
        "colab": {
          "base_uri": "https://localhost:8080/"
        },
        "outputId": "6cb6aef0-d4b0-451a-c6b0-f89811278411"
      },
      "outputs": [
        {
          "output_type": "stream",
          "name": "stdout",
          "text": [
            "Welcome to the Unit Converter!\n",
            "Choose the conversion type (length, weight, volume): weight\n",
            "Enter the value to be converted: 12\n",
            "Enter the unit to convert from (kg or lbs): kg\n",
            "Enter the unit to convert to (kg or lbs): lbs\n",
            "Converted value: 26.455439999999996\n"
          ]
        }
      ],
      "source": [
        "def convert_length(value, unit_from, unit_to):\n",
        "    \"\"\"\n",
        "    Convert between meters and feet.\n",
        "\n",
        "    Parameters:\n",
        "    value (float): The value to be converted.\n",
        "    unit_from (str): The unit to convert from ('m' or 'ft').\n",
        "    unit_to (str): The unit to convert to ('m' or 'ft').\n",
        "\n",
        "    Returns:\n",
        "    float: The converted value.\n",
        "    \"\"\"\n",
        "    if unit_from == 'm' and unit_to == 'ft':\n",
        "        return value * 3.28084  # Meters to feet\n",
        "    elif unit_from == 'ft' and unit_to == 'm':\n",
        "        return value / 3.28084  # Feet to meters\n",
        "    else:\n",
        "        raise ValueError(\"Unsupported units for length conversion.\")\n",
        "\n",
        "def convert_weight(value, unit_from, unit_to):\n",
        "    \"\"\"\n",
        "    Convert between kilograms and pounds.\n",
        "\n",
        "    Parameters:\n",
        "    value (float): The value to be converted.\n",
        "    unit_from (str): The unit to convert from ('kg' or 'lbs').\n",
        "    unit_to (str): The unit to convert to ('kg' or 'lbs').\n",
        "\n",
        "    Returns:\n",
        "    float: The converted value.\n",
        "    \"\"\"\n",
        "    if unit_from == 'kg' and unit_to == 'lbs':\n",
        "        return value * 2.20462  # Kilograms to pounds\n",
        "    elif unit_from == 'lbs' and unit_to == 'kg':\n",
        "        return value / 2.20462  # Pounds to kilograms\n",
        "    else:\n",
        "        raise ValueError(\"Unsupported units for weight conversion.\")\n",
        "\n",
        "def convert_volume(value, unit_from, unit_to):\n",
        "    \"\"\"\n",
        "    Convert between liters and gallons.\n",
        "\n",
        "    Parameters:\n",
        "    value (float): The value to be converted.\n",
        "    unit_from (str): The unit to convert from ('L' or 'gal').\n",
        "    unit_to (str): The unit to convert to ('L' or 'gal').\n",
        "\n",
        "    Returns:\n",
        "    float: The converted value.\n",
        "    \"\"\"\n",
        "    if unit_from == 'L' and unit_to == 'gal':\n",
        "        return value * 0.264172  # Liters to gallons\n",
        "    elif unit_from == 'gal' and unit_to == 'L':\n",
        "        return value / 0.264172  # Gallons to liters\n",
        "    else:\n",
        "        raise ValueError(\"Unsupported units for volume conversion.\")\n",
        "\n",
        "def main():\n",
        "    print(\"Welcome to the Unit Converter!\")\n",
        "\n",
        "    # Prompt user to choose conversion type\n",
        "    conversion_type = input(\"Choose the conversion type (length, weight, volume): \").lower()\n",
        "\n",
        "    if conversion_type not in ['length', 'weight', 'volume']:\n",
        "        print(\"Invalid conversion type selected.\")\n",
        "        return\n",
        "\n",
        "    try:\n",
        "        # Prompt user to enter value\n",
        "        value = float(input(\"Enter the value to be converted: \"))\n",
        "\n",
        "        if conversion_type == 'length':\n",
        "            unit_from = input(\"Enter the unit to convert from (m or ft): \").lower()\n",
        "            unit_to = input(\"Enter the unit to convert to (m or ft): \").lower()\n",
        "            result = convert_length(value, unit_from, unit_to)\n",
        "\n",
        "        elif conversion_type == 'weight':\n",
        "            unit_from = input(\"Enter the unit to convert from (kg or lbs): \").lower()\n",
        "            unit_to = input(\"Enter the unit to convert to (kg or lbs): \").lower()\n",
        "            result = convert_weight(value, unit_from, unit_to)\n",
        "\n",
        "        elif conversion_type == 'volume':\n",
        "            unit_from = input(\"Enter the unit to convert from (L or gal): \").lower()\n",
        "            unit_to = input(\"Enter the unit to convert to (L or gal): \").lower()\n",
        "            result = convert_volume(value, unit_from, unit_to)\n",
        "\n",
        "        print(f\"Converted value: {result}\")\n",
        "\n",
        "    except ValueError as e:\n",
        "        print(f\"Error: {e}\")\n",
        "    except Exception as e:\n",
        "        print(f\"Unexpected error: {e}\")\n",
        "\n",
        "if __name__ == \"__main__\":\n",
        "    main()\n"
      ]
    },
    {
      "cell_type": "code",
      "source": [
        "a=[1,2,3,4,5,6,2,1,3]\n",
        "result=[a[i] for i in range(len(a)) if i%2==0]\n",
        "print(result)\n",
        "\n"
      ],
      "metadata": {
        "id": "pbAdj4n4t1BC",
        "colab": {
          "base_uri": "https://localhost:8080/"
        },
        "outputId": "513f5d5c-13c6-46af-dc78-0c0d41d2f044"
      },
      "execution_count": null,
      "outputs": [
        {
          "output_type": "stream",
          "name": "stdout",
          "text": [
            "[1, 3, 5, 2, 3]\n"
          ]
        }
      ]
    },
    {
      "cell_type": "code",
      "source": [
        "a=[1,2,3,4,5,6,2,1,3]\n",
        "print(a[::2])"
      ],
      "metadata": {
        "colab": {
          "base_uri": "https://localhost:8080/"
        },
        "id": "yk3QMkgFWvWs",
        "outputId": "74125292-42c3-4240-b3b8-1f54e44963d2"
      },
      "execution_count": null,
      "outputs": [
        {
          "output_type": "stream",
          "name": "stdout",
          "text": [
            "[1, 3, 5, 2, 3]\n"
          ]
        }
      ]
    },
    {
      "cell_type": "code",
      "source": [
        "a=[1,2,3,4,5,6,7,8,9]\n",
        "print(a[::-1])\n"
      ],
      "metadata": {
        "colab": {
          "base_uri": "https://localhost:8080/"
        },
        "id": "dY8IbPajW8Pm",
        "outputId": "0c2ce3a0-2b76-4751-f544-6c7b37f27a4c"
      },
      "execution_count": null,
      "outputs": [
        {
          "output_type": "stream",
          "name": "stdout",
          "text": [
            "[9, 8, 7, 6, 5, 4, 3, 2, 1]\n"
          ]
        }
      ]
    },
    {
      "cell_type": "code",
      "source": [
        "def fisrt_and_last_gone(ok):\n",
        "  out=ok[1:-1]\n",
        "  print(out)\n",
        "\n",
        "list=[1,2,3,4,5]\n",
        "print(list)\n",
        "fisrt_and_last_gone(list)\n",
        "\n"
      ],
      "metadata": {
        "colab": {
          "base_uri": "https://localhost:8080/"
        },
        "id": "lDWEafKKXGR0",
        "outputId": "409c7f44-bdc9-43e9-9dfe-41fdfc7b3906"
      },
      "execution_count": null,
      "outputs": [
        {
          "output_type": "stream",
          "name": "stdout",
          "text": [
            "[1, 2, 3, 4, 5]\n",
            "[2, 3, 4]\n"
          ]
        }
      ]
    },
    {
      "cell_type": "code",
      "source": [
        "def get_first_n(lst, n):\n",
        "  print([lst[0:n]])\n",
        "get_first_n([1,2,3,4,5,6,7],5 )"
      ],
      "metadata": {
        "colab": {
          "base_uri": "https://localhost:8080/"
        },
        "id": "GIz40T-zYYSq",
        "outputId": "72912856-cf21-4c45-81f0-b965684fc316"
      },
      "execution_count": null,
      "outputs": [
        {
          "output_type": "stream",
          "name": "stdout",
          "text": [
            "[[1, 2, 3, 4, 5]]\n"
          ]
        }
      ]
    },
    {
      "cell_type": "code",
      "source": [
        "def get_last_n(lst, n):\n",
        "  print([lst[n:]])\n",
        "get_last_n([1,2,3,4,5,6,7],2 )"
      ],
      "metadata": {
        "colab": {
          "base_uri": "https://localhost:8080/"
        },
        "id": "hEMxu0SVZCKn",
        "outputId": "bbc17331-3bc7-49cb-cfd3-482b3422eda2"
      },
      "execution_count": null,
      "outputs": [
        {
          "output_type": "stream",
          "name": "stdout",
          "text": [
            "[[3, 4, 5, 6, 7]]\n"
          ]
        }
      ]
    },
    {
      "cell_type": "markdown",
      "source": [
        "4.3\n",
        "\n",
        "  "
      ],
      "metadata": {
        "id": "MiP0e9BU078N"
      }
    },
    {
      "cell_type": "code",
      "source": [
        "# <!-- For the input [[1, 2], [3, 4], [5]], the output should be [1, 2, 3, 4, 5].\n",
        "#  -->\n",
        "list= [[1, 2], [3, 4], [5]]\n",
        "flatlist=[]\n",
        "for i in list:\n",
        " for a in i:\n",
        "   flatlist.append(a)\n",
        "print(flatlist)"
      ],
      "metadata": {
        "colab": {
          "base_uri": "https://localhost:8080/"
        },
        "id": "l4mAmjHZ1bWZ",
        "outputId": "4e4bf1fc-23ba-4558-d0d9-276abc659499"
      },
      "execution_count": null,
      "outputs": [
        {
          "output_type": "stream",
          "name": "stdout",
          "text": [
            "[1, 2, 3, 4, 5]\n"
          ]
        }
      ]
    },
    {
      "cell_type": "code",
      "source": [
        "def access_nested_element(lst, indices):\n",
        "  for i in indices:\n",
        "    lst=lst[i]\n",
        "  return lst\n",
        "\n",
        "lst = [[1, 2, 3], [4, 5, 6], [7, 8, 9]]\n",
        "i=[2,2]\n",
        "access_nested_element(lst, i)\n",
        "\n"
      ],
      "metadata": {
        "colab": {
          "base_uri": "https://localhost:8080/"
        },
        "id": "fCRiyq6Y1zFD",
        "outputId": "9147c9df-8f9e-4688-e5c8-ec47809a97f3"
      },
      "execution_count": null,
      "outputs": [
        {
          "output_type": "execute_result",
          "data": {
            "text/plain": [
              "9"
            ]
          },
          "metadata": {},
          "execution_count": 47
        }
      ]
    },
    {
      "cell_type": "code",
      "source": [
        "def flat(lst):\n",
        "    flat_list = []  # ✅ Define a local list to store flattened elements\n",
        "    for i in lst:\n",
        "      if isinstance(i, list):\n",
        "        flat_list.extend(flat(i))  # Recursively flatten nested lists\n",
        "      else:\n",
        "        flat_list.append(i)  # Add non-list elements directly\n",
        "    return flat_list  # ✅ Return the fully flattened list\n",
        "\n",
        "lst = [[1, 2], [3, [4, 5]], 6]\n",
        "flat_list = flat(lst)  # Call the function and store the result\n",
        "\n",
        "print(flat_list)  # ✅ Output: [1, 2, 3, 4, 5, 6]\n",
        "print(sum(flat_list))  # ✅ Output: 21\n",
        "\n"
      ],
      "metadata": {
        "colab": {
          "base_uri": "https://localhost:8080/"
        },
        "id": "07_1nZnmVOjE",
        "outputId": "c4a06577-cdf0-4a36-bcf5-ea2481efa713"
      },
      "execution_count": null,
      "outputs": [
        {
          "output_type": "stream",
          "name": "stdout",
          "text": [
            "[1, 2, 3, 4, 5, 6]\n",
            "21\n"
          ]
        }
      ]
    },
    {
      "cell_type": "code",
      "source": [
        "# – Define a function remove element(lst, elem) that removes elem from lst and returns the\n",
        "# modified list.\n",
        "# – Example: For the input lst = [[1, 2], [3, 2], [4, 5]] and elem = 2, the output should\n",
        "# be [[1], [3], [4, 5]].\n",
        "\n",
        "\n",
        "def remove_element(lst, elem):\n",
        "  for i in lst:\n",
        "    while elem in i:\n",
        "      i.remove(elem)\n",
        "  return lst\n",
        "\n",
        "\n",
        "lst = [[1, 2], [3, 2], [4, 5]]\n",
        "elem = 2\n",
        "print(remove_element(lst, elem)\n",
        ")"
      ],
      "metadata": {
        "colab": {
          "base_uri": "https://localhost:8080/"
        },
        "id": "O62epV2OVWXU",
        "outputId": "fb98def7-a3d4-4a60-df2c-ce9620b5fbda"
      },
      "execution_count": null,
      "outputs": [
        {
          "output_type": "stream",
          "name": "stdout",
          "text": [
            "[[1], [3], [4, 5]]\n"
          ]
        }
      ]
    },
    {
      "cell_type": "code",
      "source": [
        "# Example: For the input [[1, 2], [3, [4, 5]], 6], the output should be 6.\n",
        "\n",
        "lst=[[1, 2], [3, [4, 5]], 6]\n",
        "\n",
        "def flat(lst):\n",
        "  flatten_list=[]\n",
        "  for i in lst:\n",
        "    if isinstance(i,list):\n",
        "      flatten_list.extend(flat(i))\n",
        "    else:\n",
        "      flatten_list.append(i)\n",
        "  return flatten_list\n",
        "\n",
        "def find_max(lst):\n",
        "  return max(lst)\n",
        "\n",
        "\n",
        "a=flat(lst)\n",
        "print(flat(lst))\n",
        "find_max(a)"
      ],
      "metadata": {
        "colab": {
          "base_uri": "https://localhost:8080/"
        },
        "id": "FADg6jUTbqMI",
        "outputId": "d5d24f90-e409-4928-aeb7-e7b23ccf177c"
      },
      "execution_count": null,
      "outputs": [
        {
          "output_type": "stream",
          "name": "stdout",
          "text": [
            "[1, 2, 3, 4, 5, 6]\n"
          ]
        },
        {
          "output_type": "execute_result",
          "data": {
            "text/plain": [
              "6"
            ]
          },
          "metadata": {},
          "execution_count": 10
        }
      ]
    },
    {
      "cell_type": "code",
      "source": [
        "from itertools import count\n",
        "# For the input lst = [[1, 2], [2, 3], [2, 4]] and elem = 2, the output should\n",
        "# be 3.\n",
        "\n",
        "lst= [[1, 2], [2, 3], [2, 4]]\n",
        "elem=2\n",
        "def flat_list(lst):\n",
        "  flat_lst=[];\n",
        "  for i in lst:\n",
        "    flat_lst.extend(i)\n",
        "  return flat_lst;\n",
        "\n",
        "def reOccurence(lst,elem):\n",
        "  num=lst.count(elem)\n",
        "  return num\n",
        "\n",
        "\n",
        "a=flat_list(lst)\n",
        "print(a)\n",
        "b=reOccurence(a,elem)\n",
        "\n",
        "print(b)\n"
      ],
      "metadata": {
        "colab": {
          "base_uri": "https://localhost:8080/"
        },
        "id": "G2FTr8KVaRWT",
        "outputId": "bb247ad6-76c6-4a0b-f4f6-201113a46f22"
      },
      "execution_count": null,
      "outputs": [
        {
          "output_type": "stream",
          "name": "stdout",
          "text": [
            "[1, 2, 2, 3, 2, 4]\n",
            "3\n"
          ]
        }
      ]
    },
    {
      "cell_type": "code",
      "source": [
        "# Define a function average nested(lst) that takes a nested list lst and returns the average\n",
        "# of all the elements.\n",
        "# – Example: For the input [[1, 2], [3, 4], [5, 6]], the output should be 3.5.\n"
      ],
      "metadata": {
        "id": "YpNyWXqffsnP"
      },
      "execution_count": null,
      "outputs": []
    },
    {
      "cell_type": "markdown",
      "source": [
        "Numpy\n"
      ],
      "metadata": {
        "id": "pGzHpSa-GQaF"
      }
    },
    {
      "cell_type": "code",
      "source": [
        "# Initialize an empty array with size 2X2.\n",
        "import numpy as np\n",
        "\n",
        "ok=np.empty((2,2))\n",
        "print(ok)"
      ],
      "metadata": {
        "colab": {
          "base_uri": "https://localhost:8080/"
        },
        "id": "gODp4M8lGScX",
        "outputId": "8a66d72f-65c1-4d2c-b4ae-509a8711d292"
      },
      "execution_count": null,
      "outputs": [
        {
          "output_type": "stream",
          "name": "stdout",
          "text": [
            "[[1.97155616e-316 0.00000000e+000]\n",
            " [2.06491614e-316 6.89928648e-310]]\n"
          ]
        }
      ]
    },
    {
      "cell_type": "code",
      "source": [
        "# Initialize an all one array with size 4X2.\n",
        "ok=np.ones((4,2))\n",
        "print (ok)"
      ],
      "metadata": {
        "colab": {
          "base_uri": "https://localhost:8080/"
        },
        "id": "4fT5DiuTG3G5",
        "outputId": "8ef89bc0-a9ae-4624-85f3-1ee223ef9d00"
      },
      "execution_count": null,
      "outputs": [
        {
          "output_type": "stream",
          "name": "stdout",
          "text": [
            "[[1. 1.]\n",
            " [1. 1.]\n",
            " [1. 1.]\n",
            " [1. 1.]]\n"
          ]
        }
      ]
    },
    {
      "cell_type": "code",
      "source": [
        "# 3. Return a new array of given shape and type, filled with fill value.{Hint: np.full}\n",
        "ok=np.full((2,4,4),9)\n",
        "print(ok)"
      ],
      "metadata": {
        "colab": {
          "base_uri": "https://localhost:8080/"
        },
        "id": "Y9S0fbxCHMft",
        "outputId": "7824c762-dd99-4b27-9461-3b0716f0d745"
      },
      "execution_count": null,
      "outputs": [
        {
          "output_type": "stream",
          "name": "stdout",
          "text": [
            "[[[9 9 9 9]\n",
            "  [9 9 9 9]\n",
            "  [9 9 9 9]\n",
            "  [9 9 9 9]]\n",
            "\n",
            " [[9 9 9 9]\n",
            "  [9 9 9 9]\n",
            "  [9 9 9 9]\n",
            "  [9 9 9 9]]]\n"
          ]
        }
      ]
    },
    {
      "cell_type": "code",
      "source": [
        "# Return a new array of zeros with same shape and type as a given array.{Hint: np.zeros like}\n",
        "ok=np.full((4,3,4),8)\n",
        "print(ok)\n",
        "allZero=np.zeros_like(ok)\n",
        "print(allZero)"
      ],
      "metadata": {
        "colab": {
          "base_uri": "https://localhost:8080/"
        },
        "id": "MQZRutGoHqTl",
        "outputId": "e8ad6e64-62b4-4673-aa9f-56429927e96d"
      },
      "execution_count": null,
      "outputs": [
        {
          "output_type": "stream",
          "name": "stdout",
          "text": [
            "[[[8 8 8 8]\n",
            "  [8 8 8 8]\n",
            "  [8 8 8 8]]\n",
            "\n",
            " [[8 8 8 8]\n",
            "  [8 8 8 8]\n",
            "  [8 8 8 8]]\n",
            "\n",
            " [[8 8 8 8]\n",
            "  [8 8 8 8]\n",
            "  [8 8 8 8]]\n",
            "\n",
            " [[8 8 8 8]\n",
            "  [8 8 8 8]\n",
            "  [8 8 8 8]]]\n",
            "[[[0 0 0 0]\n",
            "  [0 0 0 0]\n",
            "  [0 0 0 0]]\n",
            "\n",
            " [[0 0 0 0]\n",
            "  [0 0 0 0]\n",
            "  [0 0 0 0]]\n",
            "\n",
            " [[0 0 0 0]\n",
            "  [0 0 0 0]\n",
            "  [0 0 0 0]]\n",
            "\n",
            " [[0 0 0 0]\n",
            "  [0 0 0 0]\n",
            "  [0 0 0 0]]]\n"
          ]
        }
      ]
    },
    {
      "cell_type": "code",
      "source": [
        "ok=np.full((1,2,3),0)\n",
        "new=np.ones_like(ok)\n",
        "print(new)"
      ],
      "metadata": {
        "colab": {
          "base_uri": "https://localhost:8080/"
        },
        "id": "WYXw0RKPIDq7",
        "outputId": "5383211c-b326-4f9a-f7f2-2fc39b4abd93"
      },
      "execution_count": null,
      "outputs": [
        {
          "output_type": "stream",
          "name": "stdout",
          "text": [
            "[[[1 1 1]\n",
            "  [1 1 1]]]\n"
          ]
        }
      ]
    },
    {
      "cell_type": "code",
      "source": [
        "# For an existing list new_list = [1,2,3,4] convert to an numpy array.{Hint: np.array()}\n",
        "new_list = [1,2,3,4]\n",
        "nparr=np.array(new_list)"
      ],
      "metadata": {
        "id": "8q16lAKhIhMg"
      },
      "execution_count": null,
      "outputs": []
    },
    {
      "cell_type": "markdown",
      "source": [
        "Problem - 2: Array Manipulation: Numerical Ranges and Array indexing:\n",
        "\n"
      ],
      "metadata": {
        "id": "TeEnIgBJIxuK"
      }
    },
    {
      "cell_type": "code",
      "source": [
        "# 1. Create an array with values ranging from 10 to 49. {Hint:np.arrange()}.\n",
        "ok=np.arange(10,50)\n",
        "print(ok)"
      ],
      "metadata": {
        "colab": {
          "base_uri": "https://localhost:8080/"
        },
        "id": "2Vf5ZQgIIy5s",
        "outputId": "0b58d2f3-0a3e-4e0a-c4f7-70b15e842aa6"
      },
      "execution_count": null,
      "outputs": [
        {
          "output_type": "stream",
          "name": "stdout",
          "text": [
            "[10 11 12 13 14 15 16 17 18 19 20 21 22 23 24 25 26 27 28 29 30 31 32 33\n",
            " 34 35 36 37 38 39 40 41 42 43 44 45 46 47 48 49]\n"
          ]
        }
      ]
    },
    {
      "cell_type": "code",
      "source": [
        "# 2. Create a 3X3 matrix with values ranging from 0 to 8.\n",
        "ok=np.arange(0,9).reshape(3,3)\n",
        "print(ok)"
      ],
      "metadata": {
        "colab": {
          "base_uri": "https://localhost:8080/"
        },
        "id": "iFHm1Es6zXp8",
        "outputId": "e2ffb794-fe8c-4966-d61c-2a56636abf33"
      },
      "execution_count": null,
      "outputs": [
        {
          "output_type": "stream",
          "name": "stdout",
          "text": [
            "[[0 1 2]\n",
            " [3 4 5]\n",
            " [6 7 8]]\n"
          ]
        }
      ]
    },
    {
      "cell_type": "code",
      "source": [
        "# Create a 3X3 identity matrix.{Hint:np.eye()}\n",
        "ok=np.eye(3)\n",
        "print(ok)"
      ],
      "metadata": {
        "colab": {
          "base_uri": "https://localhost:8080/"
        },
        "id": "7xsKXUJu0FXd",
        "outputId": "3654f224-e539-4381-de27-c080ecb4e1ad"
      },
      "execution_count": null,
      "outputs": [
        {
          "output_type": "stream",
          "name": "stdout",
          "text": [
            "[[1. 0. 0.]\n",
            " [0. 1. 0.]\n",
            " [0. 0. 1.]]\n"
          ]
        }
      ]
    },
    {
      "cell_type": "code",
      "source": [
        "# Create a random array of size 30 and find the mean of the array.\n",
        "ok = np.random.randint(0, 50, 30)\n",
        "\n",
        "mean_value = np.mean(ok)\n",
        "\n",
        "print(\"Array:\", ok)\n",
        "print(\"Mean:\", mean_value)"
      ],
      "metadata": {
        "colab": {
          "base_uri": "https://localhost:8080/"
        },
        "id": "VohpNGe90T1S",
        "outputId": "e2140fb0-c83c-4454-e86d-8f96955d062d"
      },
      "execution_count": null,
      "outputs": [
        {
          "output_type": "stream",
          "name": "stdout",
          "text": [
            "Array: [11  1 12 37 49 44 46 37 29  8 47  4 21 34 11 12 47 31 36 11 11 14  3 25\n",
            " 48 21 25 26 46 27]\n",
            "Mean: 25.8\n"
          ]
        }
      ]
    },
    {
      "cell_type": "code",
      "source": [
        "# 5. Create a 10X10 array with random values and find the minimum and maximum values.\n",
        "ok=np.random.randint(0,1000,(10,10))\n",
        "print(ok)\n",
        "min=np.min(ok)\n",
        "max=np.max(ok)\n",
        "print(min)\n",
        "print(max)"
      ],
      "metadata": {
        "colab": {
          "base_uri": "https://localhost:8080/"
        },
        "id": "UC1XVYD104WJ",
        "outputId": "af2e8cd3-e5cd-4404-9b07-207325d5421a"
      },
      "execution_count": null,
      "outputs": [
        {
          "output_type": "stream",
          "name": "stdout",
          "text": [
            "[[899 816 195 971 152 498 655 107 314 818]\n",
            " [171 859   2 329 819 958 555 401 609 273]\n",
            " [971 834 253 108 273 285 903 500 515 526]\n",
            " [332 200 294 765 544 512 993 352 492 706]\n",
            " [551 407  80 280 625 318 957 765 913 918]\n",
            " [826 540 953 150 706 153 107 879 640 184]\n",
            " [ 54 304 948 727 502 772 874 454 599 812]\n",
            " [807 461 992  37 795 875 822 623  17 421]\n",
            " [754 874 366 181 456 823 575 824 584 659]\n",
            " [856 634 882 875 228 706 733 736 903 684]]\n",
            "2\n",
            "993\n"
          ]
        }
      ]
    },
    {
      "cell_type": "code",
      "source": [
        "# Create a zero array of size 10 and replace 5th element with 1.\n",
        "ok=np.zeros(10)\n",
        "print(ok)\n",
        "ok[5]=1\n",
        "print(ok)"
      ],
      "metadata": {
        "colab": {
          "base_uri": "https://localhost:8080/"
        },
        "id": "42OvlC9S1LmO",
        "outputId": "13e5efeb-8d80-4a01-bb74-0d176af85c13"
      },
      "execution_count": null,
      "outputs": [
        {
          "output_type": "stream",
          "name": "stdout",
          "text": [
            "[0. 0. 0. 0. 0. 0. 0. 0. 0. 0.]\n",
            "[0. 0. 0. 0. 0. 1. 0. 0. 0. 0.]\n"
          ]
        }
      ]
    },
    {
      "cell_type": "code",
      "source": [
        "# Reverse an array arr = [1,2,0,0,4,0].\n",
        "arr =np.array([1,2,0,0,4,0])\n",
        "RevArr=arr[::-1]\n",
        "print(arr)\n",
        "print(RevArr)\n"
      ],
      "metadata": {
        "colab": {
          "base_uri": "https://localhost:8080/"
        },
        "id": "1mrV0ykw3-cl",
        "outputId": "588fb436-6adc-408e-a13a-ec9bd67a1535"
      },
      "execution_count": null,
      "outputs": [
        {
          "output_type": "stream",
          "name": "stdout",
          "text": [
            "[1 2 0 0 4 0]\n",
            "[0 4 0 0 2 1]\n"
          ]
        }
      ]
    },
    {
      "cell_type": "code",
      "source": [
        "# Create a 2d array with 1 on border and 0 inside.\n",
        "ok=np.zeros((3,3))\n",
        "print(ok)\n",
        "ok[0,:]=1\n",
        "ok[:,0]=1\n",
        "ok[-1,:]=1\n",
        "ok[:,-1]=1\n",
        "\n",
        "print(ok)"
      ],
      "metadata": {
        "colab": {
          "base_uri": "https://localhost:8080/"
        },
        "id": "ZbGg8TIK4zBq",
        "outputId": "b92d64e5-7b5f-4f59-d654-295ddbb298a0"
      },
      "execution_count": null,
      "outputs": [
        {
          "output_type": "stream",
          "name": "stdout",
          "text": [
            "[[0. 0. 0.]\n",
            " [0. 0. 0.]\n",
            " [0. 0. 0.]]\n",
            "[[1. 1. 1.]\n",
            " [1. 0. 1.]\n",
            " [1. 1. 1.]]\n"
          ]
        }
      ]
    },
    {
      "cell_type": "code",
      "source": [
        "# Create a 8X8 matrix and fill it with a checkerboard pattern.\n",
        "ok=np.zeros((8,8))\n",
        "ok[::2,::2]=1\n",
        "print(ok)\n"
      ],
      "metadata": {
        "colab": {
          "base_uri": "https://localhost:8080/"
        },
        "id": "sdIJIH92-PJ2",
        "outputId": "4374ad45-7161-4a1e-e1c8-19d1ba08c91f"
      },
      "execution_count": null,
      "outputs": [
        {
          "output_type": "stream",
          "name": "stdout",
          "text": [
            "[[1. 0. 1. 0. 1. 0. 1. 0.]\n",
            " [0. 0. 0. 0. 0. 0. 0. 0.]\n",
            " [1. 0. 1. 0. 1. 0. 1. 0.]\n",
            " [0. 0. 0. 0. 0. 0. 0. 0.]\n",
            " [1. 0. 1. 0. 1. 0. 1. 0.]\n",
            " [0. 0. 0. 0. 0. 0. 0. 0.]\n",
            " [1. 0. 1. 0. 1. 0. 1. 0.]\n",
            " [0. 0. 0. 0. 0. 0. 0. 0.]]\n"
          ]
        }
      ]
    },
    {
      "cell_type": "code",
      "source": [
        "# Problem - 3: Array Operations:\n",
        "# For the following arrays:\n",
        "# x = np.array([[1,2],[3,5]]) and y = np.array([[5,6],[7,8]]);\n",
        "# v = np.array([9,10]) and w = np.array([11,12]);\n",
        "# Complete all the task using numpy:\n",
        "# 1. Add the two array.\n",
        "# 2. Subtract the two array.\n",
        "# 3. Multiply the array with any integers of your choice.\n",
        "# 4. Find the square of each element of the array.\n",
        "# 5. Find the dot product between: v(and)w ; x(and)v ; x(and)y.\n",
        "# 6. Concatenate x(and)y along row and Concatenate v(and)w along column.\n",
        "# {Hint:try np.concatenate() or np.vstack() functions.\n",
        "# 7. Concatenate x(and)v; if you get an error, observe and explain why did you get the error?\n",
        "x = np.array([[1,2],[3,5]])\n",
        "y = np.array([[5,6],[7,8]])\n",
        "v = np.array([9, 10])\n",
        "w = np.array([11, 12])\n",
        "# add=np.add(x,y)\n",
        "# subtract=np.subtract(x,y)\n",
        "# print(add)\n",
        "# print(subtract)\n",
        "# mul=np.multiply(x,y)\n",
        "# print(mul)\n",
        "# sqX=np.square(x)\n",
        "# print(sqX)\n",
        "# sqY=np.square(y)\n",
        "# print(sqY)\n",
        "# dot_vw = np.dot(v, w)\n",
        "# dot_xv = np.dot(x, v)\n",
        "# dot_xy = np.dot(x, y)\n",
        "\n",
        "# print(dot_vw)\n",
        "# print(dot_xv)\n",
        "# print(dot_xy)\n",
        "\n",
        "concatenate_xy = np.concatenate((x, y), axis=0)  # Concatenate x and y along rows\n",
        "concatenate_vw = np.concatenate((v.reshape(-1, 1), w.reshape(-1, 1)), axis=1)  # Concatenate v and w along columns\n",
        "\n",
        "print(concatenate_xy)\n",
        "print(concatenate_vw)\n",
        "\n",
        "\n"
      ],
      "metadata": {
        "colab": {
          "base_uri": "https://localhost:8080/"
        },
        "id": "4zmomy_K_Zr2",
        "outputId": "f4d47a66-b1c7-4899-e22b-041af65c0f3c"
      },
      "execution_count": null,
      "outputs": [
        {
          "output_type": "stream",
          "name": "stdout",
          "text": [
            "[[1 2]\n",
            " [3 5]\n",
            " [5 6]\n",
            " [7 8]]\n",
            "[[ 9 11]\n",
            " [10 12]]\n"
          ]
        }
      ]
    },
    {
      "cell_type": "markdown",
      "source": [
        "MAtrix"
      ],
      "metadata": {
        "id": "wnQf159R3b1i"
      }
    },
    {
      "cell_type": "code",
      "source": [
        "import numpy as np\n",
        "\n",
        "A = np.array([[2, -3, 1],\n",
        "              [1, -1, 2],\n",
        "              [3, 1, -1]])\n",
        "\n",
        "# Constant matrix B\n",
        "B = np.array([-1, -3, 9])\n",
        "A_inv=np.linalg.inv(A)\n",
        "print(A)\n",
        "X=np.dot(A_inv,B)\n",
        "print(X)"
      ],
      "metadata": {
        "id": "hZSML-3H6RT6",
        "colab": {
          "base_uri": "https://localhost:8080/"
        },
        "outputId": "43ea31da-2ecb-4a68-d023-59e6ddfb4fa7"
      },
      "execution_count": null,
      "outputs": [
        {
          "output_type": "stream",
          "name": "stdout",
          "text": [
            "[[ 2 -3  1]\n",
            " [ 1 -1  2]\n",
            " [ 3  1 -1]]\n",
            "[ 2.  1. -2.]\n"
          ]
        }
      ]
    },
    {
      "cell_type": "code",
      "source": [
        "# • For the following arrays:\n",
        "# A = np.array([[3,4],[7,8]]) and B = np.array([[5,3],[2,1]]);\n",
        "# Prove following with Numpy:\n",
        "# 1. Prove A.A−1 = I.\n",
        "# 2. Prove AB ̸= BA.\n",
        "# 3. Prove (AB)\n",
        "\n",
        "# T = BTAT\n",
        "# .\n",
        "A = np.array([[3,4],[7,8]])\n",
        "B = np.array([[5,3],[2,1]])\n",
        "A_inv = np.linalg.inv(A)\n",
        "c=np.dot(A,A_inv)\n",
        "print(c)\n",
        "AB=np.dot(A,B)\n",
        "BA=np.dot(A,B)\n",
        "print(AB)\n",
        "print(BA)\n"
      ],
      "metadata": {
        "colab": {
          "base_uri": "https://localhost:8080/"
        },
        "id": "jS_D91fl31Jl",
        "outputId": "2ff61c8e-752e-4035-9f94-9de8616b1a99"
      },
      "execution_count": null,
      "outputs": [
        {
          "output_type": "stream",
          "name": "stdout",
          "text": [
            "[[1.00000000e+00 0.00000000e+00]\n",
            " [1.77635684e-15 1.00000000e+00]]\n",
            "[[23 13]\n",
            " [51 29]]\n",
            "[[23 13]\n",
            " [51 29]]\n"
          ]
        }
      ]
    },
    {
      "cell_type": "code",
      "source": [
        "import time\n",
        "import numpy as np\n"
      ],
      "metadata": {
        "id": "xnk7B-oAEyqr"
      },
      "execution_count": null,
      "outputs": []
    },
    {
      "cell_type": "code",
      "source": [
        "# Create two lists with size 1,000,000\n",
        "list1 = [i for i in range(1000000)]\n",
        "list2 = [i for i in range(1000000)]\n",
        "\n",
        "# Measure time for element-wise addition using Python lists\n",
        "start_time = time.time()\n",
        "\n",
        "# Perform element-wise addition\n",
        "result = [list1[i] + list2[i] for i in range(1000000)]\n",
        "\n",
        "end_time = time.time()\n",
        "print(f\"Time taken for element-wise addition using Python lists: {end_time - start_time} seconds\")\n"
      ],
      "metadata": {
        "colab": {
          "base_uri": "https://localhost:8080/"
        },
        "id": "S7DuLWITFOWc",
        "outputId": "36040ae8-5e82-40d3-a322-404e9f884996"
      },
      "execution_count": null,
      "outputs": [
        {
          "output_type": "stream",
          "name": "stdout",
          "text": [
            "Time taken for element-wise addition using Python lists: 0.11552786827087402 seconds\n"
          ]
        }
      ]
    },
    {
      "cell_type": "code",
      "source": [
        "# Create two NumPy arrays with size 1,000,000\n",
        "array1 = np.arange(1000000)\n",
        "array2 = np.arange(1000000)\n",
        "\n",
        "# Measure time for element-wise addition using NumPy arrays\n",
        "start_time = time.time()\n",
        "\n",
        "# Perform element-wise addition\n",
        "result = array1 + array2\n",
        "\n",
        "end_time = time.time()\n",
        "print(f\"Time taken for element-wise addition using NumPy arrays: {end_time - start_time} seconds\")\n"
      ],
      "metadata": {
        "colab": {
          "base_uri": "https://localhost:8080/"
        },
        "id": "IwqIAHagFZmD",
        "outputId": "afa7b6b6-413b-4602-9360-99c8e69ba2b4"
      },
      "execution_count": null,
      "outputs": [
        {
          "output_type": "stream",
          "name": "stdout",
          "text": [
            "Time taken for element-wise addition using NumPy arrays: 0.0030808448791503906 seconds\n"
          ]
        }
      ]
    },
    {
      "cell_type": "code",
      "source": [
        "# Measure time for element-wise multiplication using Python lists\n",
        "start_time = time.time()\n",
        "\n",
        "# Perform element-wise multiplication\n",
        "result = [list1[i] * list2[i] for i in range(1000000)]\n",
        "\n",
        "end_time = time.time()\n",
        "print(f\"Time taken for element-wise multiplication using Python lists: {end_time - start_time} seconds\")\n"
      ],
      "metadata": {
        "colab": {
          "base_uri": "https://localhost:8080/"
        },
        "id": "zAsK2G0mFdyR",
        "outputId": "a000f8e9-93dc-4236-d830-423bee416ac1"
      },
      "execution_count": null,
      "outputs": [
        {
          "output_type": "stream",
          "name": "stdout",
          "text": [
            "Time taken for element-wise multiplication using Python lists: 0.07611989974975586 seconds\n"
          ]
        }
      ]
    },
    {
      "cell_type": "code",
      "source": [
        "# Measure time for element-wise multiplication using NumPy arrays\n",
        "start_time = time.time()\n",
        "\n",
        "# Perform element-wise multiplication\n",
        "result = array1 * array2\n",
        "\n",
        "end_time = time.time()\n",
        "print(f\"Time taken for element-wise multiplication using NumPy arrays: {end_time - start_time} seconds\")\n"
      ],
      "metadata": {
        "colab": {
          "base_uri": "https://localhost:8080/"
        },
        "id": "Z9z4alWlFezl",
        "outputId": "b39d8c49-7de1-468a-a981-c64d70f8956f"
      },
      "execution_count": null,
      "outputs": [
        {
          "output_type": "stream",
          "name": "stdout",
          "text": [
            "Time taken for element-wise multiplication using NumPy arrays: 0.003176450729370117 seconds\n"
          ]
        }
      ]
    },
    {
      "cell_type": "code",
      "source": [
        "# Measure time for dot product using Python lists\n",
        "start_time = time.time()\n",
        "\n",
        "# Compute dot product\n",
        "dot_product = sum(list1[i] * list2[i] for i in range(1000000))\n",
        "\n",
        "end_time = time.time()\n",
        "print(f\"Time taken for dot product using Python lists: {end_time - start_time} seconds\")\n"
      ],
      "metadata": {
        "colab": {
          "base_uri": "https://localhost:8080/"
        },
        "id": "Q-e59GRyFh3Q",
        "outputId": "2a997df2-4f30-4dae-ef79-ba2b28974db5"
      },
      "execution_count": null,
      "outputs": [
        {
          "output_type": "stream",
          "name": "stdout",
          "text": [
            "Time taken for dot product using Python lists: 0.09728264808654785 seconds\n"
          ]
        }
      ]
    },
    {
      "cell_type": "code",
      "source": [
        "# Measure time for dot product using NumPy arrays\n",
        "start_time = time.time()\n",
        "\n",
        "# Compute dot product\n",
        "dot_product = np.dot(array1, array2)\n",
        "\n",
        "end_time = time.time()\n",
        "print(f\"Time taken for dot product using NumPy arrays: {end_time - start_time} seconds\")\n"
      ],
      "metadata": {
        "colab": {
          "base_uri": "https://localhost:8080/"
        },
        "id": "YR1VJJpsFj-p",
        "outputId": "f3ff6f54-b4fc-4350-a972-3a3536e7de35"
      },
      "execution_count": null,
      "outputs": [
        {
          "output_type": "stream",
          "name": "stdout",
          "text": [
            "Time taken for dot product using NumPy arrays: 0.006998300552368164 seconds\n"
          ]
        }
      ]
    },
    {
      "cell_type": "code",
      "source": [],
      "metadata": {
        "id": "27bHu0Jo3aue"
      },
      "execution_count": null,
      "outputs": []
    }
  ]
}