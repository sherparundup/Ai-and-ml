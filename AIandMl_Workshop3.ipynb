{
  "nbformat": 4,
  "nbformat_minor": 0,
  "metadata": {
    "colab": {
      "provenance": []
    },
    "kernelspec": {
      "name": "python3",
      "display_name": "Python 3"
    },
    "language_info": {
      "name": "python"
    }
  },
  "cells": [
    {
      "cell_type": "code",
      "execution_count": 1,
      "metadata": {
        "colab": {
          "base_uri": "https://localhost:8080/"
        },
        "id": "eHF6_2udXSs2",
        "outputId": "419598ba-c178-4be7-e4ab-2475d5f618e0"
      },
      "outputs": [
        {
          "output_type": "stream",
          "name": "stdout",
          "text": [
            "Output of AND gate for inputs [0, 0, 1, 1] and [0, 1, 0, 1] with threshold 2: [0, 0, 0, 1]\n"
          ]
        }
      ],
      "source": [
        "def MCP_Neurons_AND(X1, X2, T):\n",
        "    \"\"\"\n",
        "    Implements basic AND operations with MCP Neuron for two inputs.\n",
        "\n",
        "    Arguments:\n",
        "      X1 (list): An array of binary values.\n",
        "      X2 (list): An array of binary values.\n",
        "      T (int): Threshold value.\n",
        "\n",
        "    Returns:\n",
        "      state_neuron (list): Output of the MCP neuron for each pair of inputs.\n",
        "    \"\"\"\n",
        "    assert len(X1) == len(X2), \"Input lists must have the same length\"\n",
        "    state_neuron = []\n",
        "    for x1, x2 in zip(X1, X2):\n",
        "        if (x1 + x2) >= T:\n",
        "            state_neuron.append(1)\n",
        "        else:\n",
        "            state_neuron.append(0)\n",
        "    return state_neuron\n",
        "\n",
        "# Sample usage for AND function\n",
        "X1 = [0, 0, 1, 1]\n",
        "X2 = [0, 1, 0, 1]\n",
        "T = 2  # Threshold value\n",
        "result = MCP_Neurons_AND(X1, X2, T)\n",
        "print(f\"Output of AND gate for inputs {X1} and {X2} with threshold {T}: {result}\")\n"
      ]
    },
    {
      "cell_type": "code",
      "source": [
        "def MCP_Neurons_OR(X1, X2, T):\n",
        "    \"\"\"\n",
        "    Implements basic OR operations with MCP Neuron for two inputs.\n",
        "\n",
        "    Arguments:\n",
        "      X1 (list): An array of binary values.\n",
        "      X2 (list): An array of binary values.\n",
        "      T (int): Threshold value.\n",
        "\n",
        "    Returns:\n",
        "      state_neuron (list): Output of the MCP neuron for each pair of inputs.\n",
        "    \"\"\"\n",
        "    assert len(X1) == len(X2), \"Input lists must have the same length\"\n",
        "    state_neuron = []\n",
        "    for x1, x2 in zip(X1, X2):\n",
        "        if (x1 + x2) >= T:\n",
        "            state_neuron.append(1)\n",
        "        else:\n",
        "            state_neuron.append(0)\n",
        "    return state_neuron\n",
        "\n",
        "X1 = [0, 0, 1, 1]\n",
        "X2 = [0, 1, 0, 1]\n",
        "result_or = MCP_Neurons_OR(X1, X2, T)\n",
        "print(f\"Output of OR gate for inputs {X1} and {X2} with threshold {T}: {result_or}\")\n"
      ],
      "metadata": {
        "id": "G4BP57WyYFUP"
      },
      "execution_count": null,
      "outputs": []
    },
    {
      "cell_type": "markdown",
      "source": [
        "### Questions on MCP Neurons\n",
        "\n",
        "1. **Limitations of MCP-Neurons:**\n",
        "   - **Simplistic Model:** It only uses binary inputs and outputs.\n",
        "   - **No Learning:** There is no mechanism to adjust weights or adapt over time.\n",
        "   - **Linear Decision Boundary:** It cannot solve problems like XOR that require non-linear separation.\n",
        "   - **Biological Inaccuracy:** It oversimplifies the complex behavior of real neurons.\n",
        "\n",
        "2. **Logic for XOR using MCP Neuron (if/else rules):**\n",
        "   - Since XOR cannot be implemented by a single MCP neuron (due to its linear nature), you can design it using a combination of MCP neurons:\n",
        "     - **Rule:** \\( \\text{XOR}(A, B) = (A \\text{ OR } B) \\text{ AND } \\text{NOT}(A \\text{ AND } B) \\)\n",
        "     - You could build this by:\n",
        "       - Using one MCP neuron for the OR operation.\n",
        "       - One for the AND operation.\n",
        "       - One for the NOT operation.\n",
        "       - Then combine their outputs with another MCP neuron to produce the final XOR output.\n",
        "\n"
      ],
      "metadata": {
        "id": "4m-ryt9ZYKl4"
      }
    },
    {
      "cell_type": "code",
      "source": [
        "import pandas as pd\n",
        "import numpy as np\n",
        "\n",
        "df_0_1 = pd.read_csv(\"/content/mnist_0_and_1.csv\")\n",
        "\n",
        "X = df_0_1.drop(columns=[\"label\"]).values\n",
        "y = df_0_1[\"label\"].values\n",
        "print(\"Feature matrix shape:\", X.shape)\n",
        "print(\"Label vector shape:\", y.shape)\n"
      ],
      "metadata": {
        "colab": {
          "base_uri": "https://localhost:8080/"
        },
        "id": "WH8xN2PlYMKX",
        "outputId": "809f9cd2-a33f-486a-f5bd-d25509e32450"
      },
      "execution_count": 2,
      "outputs": [
        {
          "output_type": "stream",
          "name": "stdout",
          "text": [
            "Feature matrix shape: (12665, 784)\n",
            "Label vector shape: (12665,)\n"
          ]
        }
      ]
    },
    {
      "cell_type": "code",
      "source": [
        "import matplotlib.pyplot as plt\n",
        "\n",
        "images_0 = X[y == 0]\n",
        "images_1 = X[y == 1]\n",
        "\n",
        "fig, axes = plt.subplots(2, 5, figsize=(10, 5))\n",
        "\n",
        "if len(images_0) < 5 or len(images_1) < 5:\n",
        "    print(\"Error: Not enough images to plot 5 for each label.\")\n",
        "else:\n",
        "    for i in range(5):\n",
        "        axes[0, i].imshow(images_0[i].reshape(28, 28), cmap=\"gray\")\n",
        "        axes[0, i].set_title(\"Label: 0\")\n",
        "        axes[0, i].axis(\"off\")\n",
        "\n",
        "        axes[1, i].imshow(images_1[i].reshape(28, 28), cmap=\"gray\")\n",
        "        axes[1, i].set_title(\"Label: 1\")\n",
        "        axes[1, i].axis(\"off\")\n",
        "\n",
        "plt.suptitle(\"First 5 Images of 0 and 1 from MNIST Subset\")\n",
        "plt.show()\n"
      ],
      "metadata": {
        "colab": {
          "base_uri": "https://localhost:8080/",
          "height": 451
        },
        "id": "LyV5gxHeYw4O",
        "outputId": "94889c1b-74b6-453e-f20d-6fd9151406ce"
      },
      "execution_count": 3,
      "outputs": [
        {
          "output_type": "display_data",
          "data": {
            "text/plain": [
              "<Figure size 1000x500 with 10 Axes>"
            ],
            "image/png": "[encoded data removed]"
          },
          "metadata": {}
        }
      ]
    },
    {
      "cell_type": "code",
      "source": [
        "weights = np.zeros(X.shape[1])\n",
        "bias = 0\n",
        "learning_rate = 0.1\n",
        "epochs = 100\n",
        "\n",
        "print(\"Weights shape:\", weights.shape)\n",
        "print(\"Initial bias:\", bias)\n"
      ],
      "metadata": {
        "colab": {
          "base_uri": "https://localhost:8080/"
        },
        "id": "TmdzJg3HY22O",
        "outputId": "31bf6770-2ae9-4897-98ab-7d9f0764780b"
      },
      "execution_count": 4,
      "outputs": [
        {
          "output_type": "stream",
          "name": "stdout",
          "text": [
            "Weights shape: (784,)\n",
            "Initial bias: 0\n"
          ]
        }
      ]
    },
    {
      "cell_type": "code",
      "source": [
        "def decision_function(X, weights, bias):\n",
        "    \"\"\"\n",
        "    Compute the predicted labels for the input data.\n",
        "\n",
        "    Parameters:\n",
        "      X (np.array): Input features of shape (n_samples, n_features).\n",
        "      weights (np.array): Trained weights.\n",
        "      bias (float): Trained bias.\n",
        "\n",
        "    Returns:\n",
        "      y_pred_all (np.array): Predicted binary labels.\n",
        "    \"\"\"\n",
        "    z = np.dot(X, weights) + bias\n",
        "    y_pred_all = np.where(z >= 0, 1, 0)\n",
        "    return y_pred_all\n",
        "\n",
        "print(\"Decision function test:\", decision_function(X[:5], weights, bias))\n"
      ],
      "metadata": {
        "colab": {
          "base_uri": "https://localhost:8080/"
        },
        "id": "Bsibk-nqY6KY",
        "outputId": "15233b46-cc41-40de-d9de-87a16d2b21aa"
      },
      "execution_count": 5,
      "outputs": [
        {
          "output_type": "stream",
          "name": "stdout",
          "text": [
            "Decision function test: [1 1 1 1 1]\n"
          ]
        }
      ]
    },
    {
      "cell_type": "code",
      "source": [
        "def train_perceptron(X, y, weights, bias, learning_rate=0.1, epochs=100):\n",
        "    \"\"\"\n",
        "    Train the perceptron using the Perceptron Learning Algorithm.\n",
        "\n",
        "    Parameters:\n",
        "      X (np.array): Input data of shape (n_samples, n_features).\n",
        "      y (np.array): True labels (0 or 1) of shape (n_samples,).\n",
        "      weights (np.array): Initial weights.\n",
        "      bias (float): Initial bias.\n",
        "      learning_rate (float): Learning rate.\n",
        "      epochs (int): Number of iterations.\n",
        "\n",
        "    Returns:\n",
        "      weights (np.array): Updated weights after training.\n",
        "      bias (float): Updated bias after training.\n",
        "      accuracy (float): Final accuracy on training data.\n",
        "    \"\"\"\n",
        "    n_samples = X.shape[0]\n",
        "\n",
        "    for epoch in range(epochs):\n",
        "        correct_predictions = 0\n",
        "        for i in range(n_samples):\n",
        "            output = np.dot(X[i], weights) + bias\n",
        "            y_pred = 1 if output >= 0 else 0\n",
        "\n",
        "            if y_pred != y[i]:\n",
        "                update = learning_rate * (y[i] - y_pred)\n",
        "                weights = weights + update * X[i]\n",
        "                bias = bias + update\n",
        "            else:\n",
        "                correct_predictions += 1\n",
        "\n",
        "        if (epoch+1) % 10 == 0:\n",
        "            print(f\"Epoch {epoch+1}/{epochs} - Accuracy: {correct_predictions/n_samples:.4f}\")\n",
        "\n",
        "    y_pred_all = decision_function(X, weights, bias)\n",
        "    accuracy = np.mean(y_pred_all == y)\n",
        "    return weights, bias, accuracy\n",
        "\n",
        "weights, bias, accuracy = train_perceptron(X, y, weights, bias, learning_rate, epochs)\n",
        "print(\"The Final Accuracy is:\", accuracy)\n"
      ],
      "metadata": {
        "colab": {
          "base_uri": "https://localhost:8080/"
        },
        "id": "1H65wkYdY8bh",
        "outputId": "f2c93f13-df98-483c-854e-335142532a01"
      },
      "execution_count": 6,
      "outputs": [
        {
          "output_type": "stream",
          "name": "stdout",
          "text": [
            "Epoch 10/100 - Accuracy: 0.9992\n",
            "Epoch 20/100 - Accuracy: 1.0000\n",
            "Epoch 30/100 - Accuracy: 1.0000\n",
            "Epoch 40/100 - Accuracy: 1.0000\n",
            "Epoch 50/100 - Accuracy: 1.0000\n",
            "Epoch 60/100 - Accuracy: 1.0000\n",
            "Epoch 70/100 - Accuracy: 1.0000\n",
            "Epoch 80/100 - Accuracy: 1.0000\n",
            "Epoch 90/100 - Accuracy: 1.0000\n",
            "Epoch 100/100 - Accuracy: 1.0000\n",
            "The Final Accuracy is: 1.0\n"
          ]
        }
      ]
    },
    {
      "cell_type": "code",
      "source": [
        "y_pred = decision_function(X, weights, bias)\n",
        "final_accuracy = np.mean(y_pred == y)\n",
        "print(f\"Final Accuracy: {final_accuracy:.4f}\")\n",
        "\n",
        "misclassified_idx = np.where(y_pred != y)[0]\n",
        "print(\"Number of misclassified images:\", len(misclassified_idx))\n",
        "\n",
        "if len(misclassified_idx) > 0:\n",
        "    fig, axes = plt.subplots(2, 5, figsize=(10, 5))\n",
        "    for ax, idx in zip(axes.flat, misclassified_idx[:10]):\n",
        "        ax.imshow(X[idx].reshape(28, 28), cmap=\"gray\")\n",
        "        ax.set_title(f\"Pred: {y_pred[idx]}, True: {y[idx]}\")\n",
        "        ax.axis(\"off\")\n",
        "    plt.suptitle(\"Misclassified Images\")\n",
        "    plt.show()\n",
        "else:\n",
        "    print(\"All images were correctly classified!\")\n"
      ],
      "metadata": {
        "colab": {
          "base_uri": "https://localhost:8080/"
        },
        "id": "P0kwxHuEZBXW",
        "outputId": "67b3abf0-d159-42b2-ea81-9ccd2a0aee96"
      },
      "execution_count": 7,
      "outputs": [
        {
          "output_type": "stream",
          "name": "stdout",
          "text": [
            "Final Accuracy: 1.0000\n",
            "Number of misclassified images: 0\n",
            "All images were correctly classified!\n"
          ]
        }
      ]
    },
    {
      "cell_type": "markdown",
      "source": [
        "### Perceptron Questions Answers\n",
        "\n",
        "1. **Question 3: What does the weights array represent?**  \n",
        "   The weights array represents the strength of each feature (pixel) in making the prediction. Each element corresponds to one pixel in the image.\n",
        "\n",
        "2. **Question 4: Why initialize weights to zero?**  \n",
        "   Initializing weights to zero provides a starting point. However, starting at zero may slow down learning or lead to symmetry issues. Sometimes random small values are preferred.\n",
        "\n",
        "3. **Question 5: Purpose of `output = np.dot(X[i], weights) + bias`?**  \n",
        "   This line calculates the weighted sum of inputs plus bias, which is used to decide whether the perceptron fires (predicts 1) or not (predicts 0).\n",
        "\n",
        "4. **Question 6: What happens when the prediction is wrong?**  \n",
        "   When the prediction is wrong, the weights and bias are updated using the rule:  \n",
        "   \\[\n",
        "   \\Delta w_j = \\eta \\times (y - \\hat{y}) \\times x_j\n",
        "   \\]  \n",
        "   and similarly for the bias. This adjustment reduces the error for that sample.\n",
        "\n",
        "5. **Question 7: Why is the final accuracy important? What do you expect it to be?**  \n",
        "   Final accuracy shows how well the perceptron learned the task. For a simple binary problem (0 vs 1), high accuracy is expected if the data is linearly separable.\n",
        "\n",
        "6. **Question 8: What does `misclassified_idx` store and how is it used?**  \n",
        "   `misclassified_idx` stores the indices of samples where the prediction did not match the true label. It is used to visualize and analyze the errors.\n",
        "\n",
        "7. **Question 9: How do you interpret \"All images were correctly classified!\"?**  \n",
        "   It indicates that the perceptron model has correctly predicted every image in the training dataset.\n",
        "\n"
      ],
      "metadata": {
        "id": "cMXoTDdsZGoG"
      }
    },
    {
      "cell_type": "code",
      "source": [
        "df_3_5 = pd.read_csv(\"/content/mnist_3_and_5.csv\")\n",
        "X_35 = df_3_5.drop(columns=[\"label\"]).values\n",
        "y_35 = df_3_5[\"label\"].values\n",
        "\n",
        "print(\"Feature matrix shape (3 vs 5):\", X_35.shape)\n",
        "print(\"Label vector shape (3 vs 5):\", y_35.shape)\n",
        "\n",
        "y_35 = np.where(y_35 == 3, 0, 1)\n",
        "\n",
        "weights_35 = np.zeros(X_35.shape[1])\n",
        "bias_35 = 0\n",
        "learning_rate = 0.1\n",
        "epochs = 100\n",
        "\n",
        "weights_35, bias_35, accuracy_35 = train_perceptron(X_35, y_35, weights_35, bias_35, learning_rate, epochs)\n",
        "print(\"Final Accuracy for 3 vs 5:\", accuracy_35)\n",
        "\n",
        "y_pred_35 = decision_function(X_35, weights_35, bias_35)\n",
        "final_accuracy_35 = np.mean(y_pred_35 == y_35)\n",
        "print(f\"Final Accuracy (3 vs 5): {final_accuracy_35:.4f}\")\n",
        "\n",
        "misclassified_idx_35 = np.where(y_pred_35 != y_35)[0]\n",
        "print(\"Number of misclassified images (3 vs 5):\", len(misclassified_idx_35))\n",
        "\n",
        "if len(misclassified_idx_35) > 0:\n",
        "    fig, axes = plt.subplots(2, 5, figsize=(10, 5))\n",
        "    for ax, idx in zip(axes.flat, misclassified_idx_35[:10]):\n",
        "        ax.imshow(X_35[idx].reshape(28, 28), cmap=\"gray\")\n",
        "        ax.set_title(f\"Pred: {y_pred_35[idx]}, True: {y_35[idx]}\")\n",
        "        ax.axis(\"off\")\n",
        "    plt.suptitle(\"Misclassified Images for 3 vs 5\")\n",
        "    plt.show()\n",
        "else:\n",
        "    print(\"All images were correctly classified for 3 vs 5!\")\n"
      ],
      "metadata": {
        "colab": {
          "base_uri": "https://localhost:8080/",
          "height": 725
        },
        "id": "JReC6qYPZHnE",
        "outputId": "4b6c7bb3-d926-463b-f6f3-49caa22ec33d"
      },
      "execution_count": 9,
      "outputs": [
        {
          "output_type": "stream",
          "name": "stdout",
          "text": [
            "Feature matrix shape (3 vs 5): (2741, 784)\n",
            "Label vector shape (3 vs 5): (2741,)\n",
            "Epoch 10/100 - Accuracy: 0.9566\n",
            "Epoch 20/100 - Accuracy: 0.9661\n",
            "Epoch 30/100 - Accuracy: 0.9726\n",
            "Epoch 40/100 - Accuracy: 0.9719\n",
            "Epoch 50/100 - Accuracy: 0.9788\n",
            "Epoch 60/100 - Accuracy: 0.9759\n",
            "Epoch 70/100 - Accuracy: 0.9792\n",
            "Epoch 80/100 - Accuracy: 0.9792\n",
            "Epoch 90/100 - Accuracy: 0.9843\n",
            "Epoch 100/100 - Accuracy: 0.9858\n",
            "Final Accuracy for 3 vs 5: 0.986866107260124\n",
            "Final Accuracy (3 vs 5): 0.9869\n",
            "Number of misclassified images (3 vs 5): 36\n"
          ]
        },
        {
          "output_type": "display_data",
          "data": {
            "text/plain": [
              "<Figure size 1000x500 with 10 Axes>"
            ],
            "image/png": "[encoded data removed]"
          },
          "metadata": {}
        }
      ]
    }
  ]
}